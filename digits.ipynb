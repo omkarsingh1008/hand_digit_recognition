{
 "cells": [
  {
   "cell_type": "code",
   "execution_count": 1,
   "metadata": {},
   "outputs": [
    {
     "name": "stderr",
     "output_type": "stream",
     "text": [
      "Using TensorFlow backend.\n"
     ]
    }
   ],
   "source": [
    "import keras\n",
    "from keras.models import Sequential\n",
    "from keras.layers import Dense,Flatten,Conv2D,MaxPool2D,Dropout\n",
    "from keras.utils import to_categorical\n",
    "from keras.callbacks import EarlyStopping \n",
    "import numpy as np\n",
    "import pandas as pd\n",
    "import matplotlib.pyplot as plt\n",
    "from sklearn.model_selection import train_test_split\n",
    "from sklearn.metrics import mean_squared_error,confusion_matrix,classification_report"
   ]
  },
  {
   "cell_type": "code",
   "execution_count": 2,
   "metadata": {},
   "outputs": [],
   "source": [
    "def loaddata():\n",
    "    train=pd.read_csv('train.csv')\n",
    "    test=pd.read_csv('test.csv')\n",
    "    x=train.drop(['label'],axis=1)\n",
    "    y=train['label']\n",
    "    x=x/255\n",
    "    x=x.values.reshape(-1,28,28,1)\n",
    "    y_cate=to_categorical(y)\n",
    "    x_train,x_test,y_train,y_test=train_test_split(x,y_cate,test_size=0.3,random_state=6)\n",
    "    modelcall(x_train,x_test,y_train,y_test)"
   ]
  },
  {
   "cell_type": "code",
   "execution_count": 3,
   "metadata": {},
   "outputs": [],
   "source": [
    "def modelcall(x_train,x_test,y_train,y_test):\n",
    "    model=Sequential()\n",
    "    filters=32\n",
    "    model.add(Conv2D(filters,kernel_size=3,padding = 'Same',activation='relu',input_shape=(28,28,1)))\n",
    "    model.add(MaxPool2D(pool_size=(2,2)))\n",
    "    model.add(Dropout(0.25))\n",
    "    model.add(Conv2D(filters,kernel_size=3,padding = 'Same',activation='relu'))\n",
    "    model.add(MaxPool2D(pool_size=(2,2)))\n",
    "\n",
    "    model.add(Flatten())\n",
    "    model.add(Dense(300, activation = \"relu\"))\n",
    "    model.add(Dropout(0.25))\n",
    "    model.add(Dense(10,activation='softmax'))\n",
    "    model.compile(loss='categorical_crossentropy',optimizer='adam',metrics=['accuracy'])\n",
    "    model.fit(x_train,y_train,epochs=10,batch_size=32,callbacks=[EarlyStopping(patience=10)])\n",
    "    testmodel(x_test,y_test,model)"
   ]
  },
  {
   "cell_type": "code",
   "execution_count": 7,
   "metadata": {},
   "outputs": [],
   "source": [
    "def testmodel(x_test,y_test,model):\n",
    "    print(f\"accuracy of test model:{model.evaluate(x_test, y_test)}\")\n",
    "    prediction(model)"
   ]
  },
  {
   "cell_type": "code",
   "execution_count": 8,
   "metadata": {},
   "outputs": [],
   "source": [
    "def prediction(model):\n",
    "    \n",
    "    test=pd.read_csv('test.csv')\n",
    "    x_sub=test\n",
    "    #index=np.random.randint(0,x_sub.shape[0])\n",
    "    index=int(input(\"enter index value:\"))\n",
    "    x_sub=x_sub/255\n",
    "    x_sub=x_sub.values.reshape(-1,28,28,1)\n",
    "    y_sub=model.predict(x_sub)\n",
    "    y_s = np.argmax(y_sub,axis = 1)\n",
    "    \n",
    "    print(\"actual value:\")\n",
    "    plt.imshow(x_sub[index][:,:,0])\n",
    "    plt.show()\n",
    "    print(f\"predicted value is:{y_s[index]}\")"
   ]
  },
  {
   "cell_type": "code",
   "execution_count": 9,
   "metadata": {},
   "outputs": [
    {
     "name": "stdout",
     "output_type": "stream",
     "text": [
      "Epoch 1/10\n",
      "29400/29400 [==============================] - 25s 864us/step - loss: 0.2455 - acc: 0.9220\n",
      "Epoch 2/10\n",
      "  160/29400 [..............................] - ETA: 25s - loss: 0.1004 - acc: 0.97"
     ]
    },
    {
     "name": "stderr",
     "output_type": "stream",
     "text": [
      "C:\\ProgramData\\Anaconda3\\lib\\site-packages\\keras\\callbacks.py:569: RuntimeWarning: Early stopping conditioned on metric `val_loss` which is not available. Available metrics are: loss,acc\n",
      "  (self.monitor, ','.join(list(logs.keys()))), RuntimeWarning\n"
     ]
    },
    {
     "name": "stdout",
     "output_type": "stream",
     "text": [
      "29400/29400 [==============================] - 25s 862us/step - loss: 0.0749 - acc: 0.9755\n",
      "Epoch 3/10\n",
      "29400/29400 [==============================] - 26s 893us/step - loss: 0.0518 - acc: 0.9839\n",
      "Epoch 4/10\n",
      "29400/29400 [==============================] - ETA: 0s - loss: 0.0390 - acc: 0.986 - 28s 961us/step - loss: 0.0390 - acc: 0.9867\n",
      "Epoch 5/10\n",
      "29400/29400 [==============================] - 27s 906us/step - loss: 0.0341 - acc: 0.9885\n",
      "Epoch 6/10\n",
      "29400/29400 [==============================] - 26s 877us/step - loss: 0.0277 - acc: 0.9909\n",
      "Epoch 7/10\n",
      "29400/29400 [==============================] - 26s 868us/step - loss: 0.0242 - acc: 0.9923\n",
      "Epoch 8/10\n",
      "29400/29400 [==============================] - 26s 876us/step - loss: 0.0228 - acc: 0.9926\n",
      "Epoch 9/10\n",
      "29400/29400 [==============================] - 28s 964us/step - loss: 0.0195 - acc: 0.9937\n",
      "Epoch 10/10\n",
      "29400/29400 [==============================] - 25s 862us/step - loss: 0.0168 - acc: 0.9946\n",
      "12600/12600 [==============================] - 2s 146us/step\n",
      "accuracy of test model:[0.03822948321556425, 0.9894444444444445]\n",
      "enter index value:4\n",
      "actual value:\n"
     ]
    },
    {
     "data": {
      "image/png": "[encoded data removed]",
      "text/plain": [
       "<Figure size 432x288 with 1 Axes>"
      ]
     },
     "metadata": {
      "needs_background": "light"
     },
     "output_type": "display_data"
    },
    {
     "name": "stdout",
     "output_type": "stream",
     "text": [
      "predicted value is:3\n"
     ]
    }
   ],
   "source": [
    "loaddata()"
   ]
  },
  {
   "cell_type": "code",
   "execution_count": null,
   "metadata": {},
   "outputs": [],
   "source": []
  }
 ],
 "metadata": {
  "kernelspec": {
   "display_name": "Python 3",
   "language": "python",
   "name": "python3"
  },
  "language_info": {
   "codemirror_mode": {
    "name": "ipython",
    "version": 3
   },
   "file_extension": ".py",
   "mimetype": "text/x-python",
   "name": "python",
   "nbconvert_exporter": "python",
   "pygments_lexer": "ipython3",
   "version": "3.7.3"
  }
 },
 "nbformat": 4,
 "nbformat_minor": 2
}
